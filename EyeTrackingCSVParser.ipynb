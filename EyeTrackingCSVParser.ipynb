{
 "cells": [
  {
   "cell_type": "markdown",
   "metadata": {},
   "source": [
    "### CSV Parser for Eye Time Based Data\n",
    "\n",
    "The objective of this script is to take a CSV file consisting of eye tracking data and return a metric for the average \"processing fluency\" of the conducted test. The eye tracking data contained in the file has the following structure: [X Screen Position of Eye Focus, Y Screen Position of Eye Focus, Milliseconds since the beginning of the test]. The processing fluency metric will be derived for each in-order pair of data points by dividing the time (ms) difference between data points by the Euclidean (straight-line in pixels) distance of the data points. The average of these individual derived values will be taken to obtain the final average processing fluency of the test for that particular participant. \n"
   ]
  },
  {
   "attachments": {
    "image.png": {
     "image/png": "[encoded data removed]"
    }
   },
   "cell_type": "markdown",
   "metadata": {},
   "source": [
    "![image.png](attachment:image.png)"
   ]
  },
  {
   "cell_type": "markdown",
   "metadata": {},
   "source": [
    "# Fields in CSV: \n",
    "* [tester_id, tester_age, tester_gender, item_id, test_id, test_created_at, test_browser_width_px, test_browser_height_px, test_duration_ms, test_raw_data]"
   ]
  },
  {
   "cell_type": "code",
   "execution_count": 26,
   "metadata": {},
   "outputs": [
    {
     "name": "stdout",
     "output_type": "stream",
     "text": [
      "{   '00d86ab0-c369-4144-98e2-0e0f3a6fe761': 0.2712627318743662,\n",
      "    '10c48b53-0789-4b76-8257-dc70ff6cbae9': 0.2480455777952292,\n",
      "    '114234ac-33c9-4e22-b26f-0f5acf6c04c4': 0.2734218382989481,\n",
      "    '1b63b1a3-079f-41ce-b94c-cf7ab60d15d6': 0.23387801744655662,\n",
      "    '2ea7a4bc-e970-4eef-9264-131ab3bfcdd8': 0.27207217633724495,\n",
      "    '343a1f14-f286-482d-90da-cea7966addd5': 0.2862871965561885,\n",
      "    '36ba1e18-7ef9-4aaa-9d2c-c6b6f43c76d6': 0.24777664570126617,\n",
      "    '3894fa9c-88f5-49ce-940c-ff7e6220eb38': 0.2803553385823997,\n",
      "    '3ad1e5f0-4e36-4b37-8e93-3da5869d7c54': 0.2099804486377685,\n",
      "    '445452cb-d12b-448b-98c8-2ba9d45036a2': 0.21314240073116278,\n",
      "    '4a873448-a3c1-4cae-b2df-ac698347ec9f': 0.2328492077635826,\n",
      "    '4b82af09-fc5a-4fcd-9caa-60620df5f4b8': 0.3141761248271433,\n",
      "    '64cec8cf-afa2-46b7-bcfa-1c8ed120b1a2': 0.21024231673647648,\n",
      "    '68a3c6e2-50a2-44f1-b174-dc673fd0037a': 0.24862789415316655,\n",
      "    '6b6b6b22-0d39-4315-9647-3ddc58f4a3b8': 0.26165101781824074,\n",
      "    '70ea3a23-68b6-474b-88af-e4d39b3ec21b': 0.25912261810876785,\n",
      "    '77c6ab9c-fa1e-463b-acff-f722d90fd3b7': 0.25596561036867604,\n",
      "    '7824cdd9-f58e-49ef-b175-b0f062eaa944': 0.21433511795884153,\n",
      "    '90f8b986-aacc-492c-a2fe-0c396a8ec786': 0.21684046968543463,\n",
      "    'd78267b5-5ec2-4425-b037-076d5acaf77a': 0.295905888249007,\n",
      "    'f01e1af0-49aa-4e13-bac4-85abfebc6e2f': 0.23585506281140659,\n",
      "    'f8be0f62-ecd2-4d2b-9ece-a16898f79494': 0.24115873636153906}\n"
     ]
    }
   ],
   "source": [
    "import csv\n",
    "import math\n",
    "from collections import defaultdict\n",
    "import pprint\n",
    "\n",
    "\n",
    "#All other indices are name/sex/etc.\n",
    "test_data_index = 9\n",
    "image_id_index = 3\n",
    "count = 0\n",
    "\n",
    "Image_PFs_Dict = defaultdict(list)\n",
    "\n",
    "def Euclidean_Distance(x1, y1, x2, y2):\n",
    "    diffx = x2-x1\n",
    "    diffy = y2-y1\n",
    "    return math.sqrt((diffx**2) + (diffy**2))\n",
    "\n",
    "def Average_List(lst): \n",
    "    return sum(lst) / len(lst)\n",
    "\n",
    "\n",
    "with open('Pilot_Experiment_Raw_Data.csv', newline='\\n') as f:\n",
    "    \n",
    "    reader = csv.reader(f)\n",
    "    \n",
    "    for row in reader:\n",
    "        \n",
    "        #Ignore Header Information\n",
    "        if count>0:\n",
    "            \n",
    "            #row[test_data_index] is a string lol\n",
    "            stringData = row[test_data_index]\n",
    "            \n",
    "            #break up the list of X,Y,time datapoints\n",
    "            data_points_raw = stringData[2:len(stringData)-2].split('],[')\n",
    "            dps_parsed = []\n",
    "            for dp in data_points_raw:\n",
    "                dps_parsed.append(dp.split(','))\n",
    "                \n",
    "            Inverse_PF_data = []\n",
    "            for index in range(0,len(dps_parsed)-1):\n",
    "                x1 = float(dps_parsed[index][0])\n",
    "                y1 = float(dps_parsed[index][1])\n",
    "                x2 = float(dps_parsed[index+1][0])\n",
    "                y2 = float(dps_parsed[index+1][1])\n",
    "              \n",
    "                #Distance Formula Tested: WORKING CORRECTLY\n",
    "                dist = Euclidean_Distance(x1, y1, x2, y2)\n",
    "                \n",
    "                time1 = int(dps_parsed[index][2])\n",
    "                time2 = int(dps_parsed[index+1][2])\n",
    "                \n",
    "                timeDiff = time2 - time1\n",
    "\n",
    "                #We calculate the inverse PF to avoid the divide by zero problem when dist = 0\n",
    "                Inverse_PF= dist/timeDiff\n",
    "                \n",
    "                Inverse_PF_data.append(Inverse_PF)\n",
    "            \n",
    "            if(len(Inverse_PF_data)>0):\n",
    "                average = Average_List(Inverse_PF_data)\n",
    "                PF = 1/average\n",
    "                Image_PFs_Dict[row[image_id_index]].append(PF)\n",
    "\n",
    "\n",
    "                \n",
    "                #print('Average Inverse Processing Fluency for Test: ', average)\n",
    "                \n",
    "                #So long as average != 0, or the eye tracking picked up on SOME movement for that image, there shouldn't be a divide by zero problem to obtain actual processing fluency metric\n",
    "                #print('Average Processing Fluency for Test', PF)\n",
    "\n",
    "        count+=1\n",
    "        \n",
    "\n",
    "Image_AveragePF_Dict = {}\n",
    "for image_id, PF_list in Image_PFs_Dict.items():\n",
    "    #print(PF_list)\n",
    "    Image_AveragePF_Dict[image_id] = Average_List(PF_list)\n",
    "\n",
    "\n",
    "pp = pprint.PrettyPrinter(indent=4)\n",
    "pp.pprint(Image_AveragePF_Dict)\n",
    "\n"
   ]
  },
  {
   "cell_type": "code",
   "execution_count": null,
   "metadata": {},
   "outputs": [],
   "source": []
  },
  {
   "cell_type": "code",
   "execution_count": null,
   "metadata": {},
   "outputs": [],
   "source": []
  },
  {
   "cell_type": "code",
   "execution_count": null,
   "metadata": {},
   "outputs": [],
   "source": []
  }
 ],
 "metadata": {
  "kernelspec": {
   "display_name": "Python 3",
   "language": "python",
   "name": "python3"
  },
  "language_info": {
   "codemirror_mode": {
    "name": "ipython",
    "version": 3
   },
   "file_extension": ".py",
   "mimetype": "text/x-python",
   "name": "python",
   "nbconvert_exporter": "python",
   "pygments_lexer": "ipython3",
   "version": "3.8.1"
  }
 },
 "nbformat": 4,
 "nbformat_minor": 4
}
